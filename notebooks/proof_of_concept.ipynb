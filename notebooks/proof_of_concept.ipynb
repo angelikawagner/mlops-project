{
 "cells": [
  {
   "cell_type": "markdown",
   "metadata": {},
   "source": [
    "<p align = \"center\" draggable=”false” ><img src=\"https://user-images.githubusercontent.com/37101144/161836199-fdb0219d-0361-4988-bf26-48b0fad160a3.png\"\n",
    "     width=\"200px\"\n",
    "     height=\"auto\"/>\n",
    "</p>\n",
    "\n",
    "\n",
    "\n",
    "# <h1 align=\"center\" id=\"heading\">Phase I - Proof of Concept</h1>\n",
    "\n",
    "\n",
    "\n",
    "## ☑️ Objectives\n",
    "At the end of this session, you will have a brief understanding of how to:\n",
    "- [ ] Find and run pre-trained models (Phase I)\n",
    "- [ ] Evaluate results from pre-trained models (Phase I)\n",
    "- [ ] Run a pre-trained model using real Reddit data (Phase I)\n",
    "\n",
    "\n",
    "## 🛠️ Pre-Assignment\n",
    "1. Create a virtual environment with 🐍 conda : `conda env create -f environment.yml`\n",
    "\n",
    "2. Activate your conda virtual environment: `conda activate tsla_bot`\n",
    "\n",
    "3. Create a .env file in the root directory and add the following variables:\n",
    "4. \n",
    "   `STOCK_API_KEY` : API key from [twelvedata](https://twelvedata.com/pricing)\n",
    "\n",
    "   `REDDIT_API_CLIENT_ID` : client ID of your reddit app\n",
    "   \n",
    "   `REDDIT_API_CLIENT_SECRET`: client secret of your reddit app\n",
    "   \n",
    "   Follow this tutorial to generate your own Reddit credentials:\n",
    "   <https://www.jcchouinard.com/get-reddit-api-credentials-with-praw/>\n",
    "\n",
    "4. Continue in this notebook\n",
    "\n",
    "\n",
    "\n",
    "## Background"
   ]
  },
  {
   "cell_type": "markdown",
   "metadata": {},
   "source": [
    "After the meeting with your boss, and reviewing your [notes](https://www.notion.so/Analyzing-Market-Sentiment-Phase-I-II-and-II-End-to-End-MLOps-with-Open-Source-Tools-dc4b846108b44f6bb2962d550368560c#54cc350bc95041ee873dabde36930af1) 📓, you're ready to get going on a Proof of Concept (POC)\n",
    "\n",
    "A POC tests the validity of your hypothesis. It's a way to prove that your idea, task, app, or whatever else works!\n",
    "\n",
    "There's no time to waste - you've got an idea - it's time to get testing it out! 🏁"
   ]
  },
  {
   "cell_type": "markdown",
   "metadata": {},
   "source": [
    "### Step 1: Initial Imports and Variable Setting 📈\n",
    "\n",
    "First things first: Let's set some variables that will help us going forward.\n",
    "\n",
    "Though your boss suggested `\"TSLA\"`, you can use any active stock-symbol and subreddit!\n",
    "\n",
    "**IMPORTANT**: Make sure you verify that your selected subreddit exists by navigating to the generated link after you run the following cell"
   ]
  },
  {
   "cell_type": "code",
   "execution_count": 8,
   "metadata": {},
   "outputs": [
    {
     "name": "stdout",
     "output_type": "stream",
     "text": [
      "reddit.com/r/teslainvestorsclub\n"
     ]
    }
   ],
   "source": [
    "from datetime import datetime, timedelta\n",
    "\n",
    "# Stock data to grab ex. \"TSLA\"\n",
    "symbol = \"TSLA\"\n",
    "\n",
    "# subreddit to check\n",
    "subreddit = \"teslainvestorsclub\"\n",
    "\n",
    "# Time interval granularity\n",
    "# valid choices are \"1week\", \"1month\", \"1day\"\n",
    "interval = \"1month\"\n",
    "\n",
    "# set the beginning and end of the time range you'd like to analyze\n",
    "# ensure you use the format \"YYYY-MM-DD\"\n",
    "start_date = \"2022-03-01\"\n",
    "end_date = \"2022-06-30\"\n",
    "\n",
    "start_date_dt = datetime.strptime(start_date, '%Y-%m-%d')\n",
    "end_date_dt = datetime.strptime(end_date, '%Y-%m-%d')\n",
    "\n",
    "print(f'reddit.com/r/{subreddit}')"
   ]
  },
  {
   "cell_type": "markdown",
   "metadata": {},
   "source": [
    "### Step 2: Set Environment Variables ⛰️\n",
    "\n",
    "Use the information you created in the instructions of the `README.md` to fill in the values below!"
   ]
  },
  {
   "cell_type": "markdown",
   "metadata": {},
   "source": [
    "### Step 3: Get to Scraping 🌐\n",
    "\n",
    "Now we're going to use the `scraper` module (found in the `TSLASentimentAnalyzer` folder) to \"scrape\" the subreddit of our choosing for posts!\n",
    "\n",
    "⚗️ RESOURCES: \n",
    "\n",
    "[Web Scraping](https://www.parsehub.com/blog/what-is-web-scraping/)\n",
    "\n",
    "[Reddit Post Options](https://www.reddit.com/r/help/comments/32eu8w/what_is_the_difference_between_newrising_hot_top/)"
   ]
  },
  {
   "cell_type": "markdown",
   "metadata": {},
   "source": [
    "##### Initializing the Scraper"
   ]
  },
  {
   "cell_type": "code",
   "execution_count": 7,
   "metadata": {},
   "outputs": [],
   "source": [
    "import pandas as pd\n",
    "from loguru import logger\n",
    "from sentimentbot.classifier import predict\n",
    "from sentimentbot.scraper import RedditScraper\n",
    "from sentimentbot.config import settings\n",
    "\n",
    "# instantiating the reddit scraper\n",
    "reddit = RedditScraper(subreddit=subreddit) # if no arg supplied, defaults to \"TSLA\""
   ]
  },
  {
   "cell_type": "markdown",
   "metadata": {},
   "source": [
    "##### Helper Functions 🔨\n",
    "\n",
    "Here are some helper functions to assist in collecting data!"
   ]
  },
  {
   "cell_type": "code",
   "execution_count": 5,
   "metadata": {},
   "outputs": [],
   "source": [
    "def load_data(number: int, scraping_option: str):\n",
    "    '''\n",
    "    loads comments from reddit using the RedditScraper using one of the options\n",
    "    and returns a DataFrame\n",
    "    '''\n",
    "    comments = []\n",
    "    for submission in scraping_option(number):\n",
    "        comments.extend(reddit.get_comment_forest(submission.comments))\n",
    "        logger.debug(\n",
    "            submission.title,\n",
    "            submission.num_comments,\n",
    "            len(reddit.get_comment_forest(submission.comments)),\n",
    "        )\n",
    "    df = pd.DataFrame(comments)\n",
    "    return df\n",
    "\n",
    "\n",
    "def select_scrap_type(option: str):\n",
    "    '''\n",
    "    selects a method from the reddit object based on a given option\n",
    "    '''\n",
    "    if option == \"Hot\":\n",
    "        return reddit.get_hot\n",
    "        \n",
    "    if option == \"Rising\":\n",
    "        return reddit.get_rising\n",
    "\n",
    "    if option == \"New\":\n",
    "        return reddit.get_new"
   ]
  },
  {
   "cell_type": "markdown",
   "metadata": {},
   "source": [
    "##### Loading & Processing the Reddit Comment Data\n",
    "\n",
    "Let's scrape the 15 🔥 hottest 🔥 posts from your selected subreddit using the `load_data()` helper function!"
   ]
  },
  {
   "cell_type": "code",
   "execution_count": 10,
   "metadata": {},
   "outputs": [
    {
     "name": "stderr",
     "output_type": "stream",
     "text": [
      "2022-07-06 17:36:45.572 | DEBUG    | sentimentbot.scraper:get_comment_forest:41 - <praw.models.comment_forest.CommentForest object at 0x7efd64313e50>\n",
      "2022-07-06 17:36:45.573 | DEBUG    | sentimentbot.scraper:get_comment_forest:41 - <praw.models.comment_forest.CommentForest object at 0x7efd64313e50>\n",
      "2022-07-06 17:36:45.574 | DEBUG    | __main__:load_data:9 - Daily Thread - July 06, 2022\n",
      "2022-07-06 17:36:48.479 | DEBUG    | sentimentbot.scraper:get_comment_forest:41 - <praw.models.comment_forest.CommentForest object at 0x7efc7ff218b0>\n",
      "2022-07-06 17:36:48.480 | INFO     | sentimentbot.scraper:get_comment_forest:44 - more comments\n",
      "2022-07-06 17:36:48.606 | DEBUG    | sentimentbot.scraper:get_comment_forest:41 - <MoreComments count=4, children=['i8zd27n']>\n",
      "2022-07-06 17:36:48.607 | DEBUG    | sentimentbot.scraper:get_comment_forest:45 - [{'comment': 'The average income in China is like $8500/year. In India it’s like $2k. Those two countries comprise a huge portion of the worlds population. They are not going to lease a Tesla', 'title': 'Long-running Thread for Detailed Discussion', 'id': 'i8zd27n', 'created_at': 1652814797, 'score': 0}, {'comment': \"I disagree entirely with the premise of this comment: We're comparing like for like, and assuming better TCO. Those people wouldn't be buying a TM3/TMY-equivalent combustion vehicle either. \\n\\nIf we're stretching the conversation that far, you might as well add in all fish who can't drive a TM3 under the ocean, too.\", 'title': 'Long-running Thread for Detailed Discussion', 'id': 'i8zj7d7', 'created_at': 1652817316, 'score': 3}, {'comment': 'Yes you are right about that. I guess what I was getting at is that that Tesla currently competes in a niche luxury market segment for automobiles.', 'title': 'Long-running Thread for Detailed Discussion', 'id': 'i8zko83', 'created_at': 1652817924, 'score': 1}, {'comment': \"I agree. However, they are not inherently stuck in that niche, and it's TCO you want to base your analysis on, not retail sale price.\", 'title': 'Long-running Thread for Detailed Discussion', 'id': 'i8zljm8', 'created_at': 1652818287, 'score': 5}]\n",
      "2022-07-06 17:36:48.607 | INFO     | sentimentbot.scraper:get_comment_forest:44 - more comments\n",
      "2022-07-06 17:36:48.721 | DEBUG    | sentimentbot.scraper:get_comment_forest:41 - <MoreComments count=1, children=['i9laoge']>\n",
      "2022-07-06 17:36:48.726 | DEBUG    | sentimentbot.scraper:get_comment_forest:45 - [{'comment': 'If he knew recession is coming, why is he buying twitter at 50% over its value screwing tsla investors in the process, \\nAs a CEO where some damn fiduciary responsibility to tesla’s shareholders and stop dhooting the company into their own legs with makinh fun of libtards and dems, hes killing off the demand and for every damn idiotic tweet he looses potential buyers, \\n\\nAnd dont tell me musk is musk, he was never this politically polarizing ,\\n\\nSomeone get his off the board of directors and maybe get him iff the platform and let him go back with playing with rockets and building cars which is his strong point', 'title': 'Long-running Thread for Detailed Discussion', 'id': 'i9laoge', 'created_at': 1653243546, 'score': 0}]\n",
      "2022-07-06 17:36:48.727 | INFO     | sentimentbot.scraper:get_comment_forest:44 - more comments\n",
      "2022-07-06 17:36:48.924 | DEBUG    | sentimentbot.scraper:get_comment_forest:41 - <MoreComments count=0, children=[]>\n",
      "2022-07-06 17:36:48.925 | DEBUG    | sentimentbot.scraper:get_comment_forest:45 - [{'comment': \"Tesla is not just competing with other electric cars.\\n\\nThey are competing with all cars, [as you yourself just said.](https://www.reddit.com/r/teslainvestorsclub/comments/t0qeyu/comment/i89866n/?utm_source=reddit&utm_medium=web2x&context=3)\\n\\nIn fact, a friend of mine recently cross-shopped a TM3 and a AMG C43, and ended up with the C43 — which he's quite proud of.\", 'title': 'Long-running Thread for Detailed Discussion', 'id': 'i8bpatw', 'created_at': 1652367074, 'score': 2}]\n",
      "2022-07-06 17:36:48.926 | INFO     | sentimentbot.scraper:get_comment_forest:44 - more comments\n",
      "2022-07-06 17:36:49.139 | DEBUG    | sentimentbot.scraper:get_comment_forest:41 - <MoreComments count=0, children=[]>\n",
      "2022-07-06 17:36:49.143 | DEBUG    | sentimentbot.scraper:get_comment_forest:45 - [{'comment': 'Or what percentage of incidents are known by Tesla to be caused by doing everything they can to minimize false negatives, something which could change when they get to a certain confidence level.\\n\\nBetter some uncomfortable rides than a string of dead kids.', 'title': 'Long-running Thread for Detailed Discussion', 'id': 'hyyy6dy', 'created_at': 1646173357, 'score': 3}]\n",
      "2022-07-06 17:36:49.146 | INFO     | sentimentbot.scraper:get_comment_forest:44 - more comments\n",
      "2022-07-06 17:36:49.567 | DEBUG    | sentimentbot.scraper:get_comment_forest:41 - <MoreComments count=0, children=[]>\n",
      "2022-07-06 17:36:49.568 | DEBUG    | sentimentbot.scraper:get_comment_forest:45 - [{'comment': \"It's a investment forum, analysts are of financial nature in this sub. It's up to you to express yourself in a matter that we can understand. But I can tell you lack the maturity to accept you might have been less than absolute perfect alpha chad. That's why I surrender, you win!\", 'title': 'Long-running Thread for Detailed Discussion', 'id': 'i00lrkq', 'created_at': 1646857429, 'score': 0}]\n",
      "2022-07-06 17:36:49.569 | INFO     | sentimentbot.scraper:get_comment_forest:44 - more comments\n",
      "2022-07-06 17:36:49.777 | DEBUG    | sentimentbot.scraper:get_comment_forest:41 - <MoreComments count=0, children=[]>\n",
      "2022-07-06 17:36:49.777 | DEBUG    | sentimentbot.scraper:get_comment_forest:45 - [{'comment': 'I will be messaging you in 3 years on [**2025-04-12 17:44:36 UTC**](http://www.wolframalpha.com/input/?i=2025-04-12%2017:44:36%20UTC%20To%20Local%20Time) to remind you of [**this link**](https://www.reddit.com/r/teslainvestorsclub/comments/t0qeyu/longrunning_thread_for_detailed_discussion/i4gfftu/?context=3)\\n\\n[**1 OTHERS CLICKED THIS LINK**](https://www.reddit.com/message/compose/?to=RemindMeBot&subject=Reminder&message=%5Bhttps%3A%2F%2Fwww.reddit.com%2Fr%2Fteslainvestorsclub%2Fcomments%2Ft0qeyu%2Flongrunning_thread_for_detailed_discussion%2Fi4gfftu%2F%5D%0A%0ARemindMe%21%202025-04-12%2017%3A44%3A36%20UTC) to send a PM to also be reminded and to reduce spam.\\n\\n^(Parent commenter can ) [^(delete this message to hide from others.)](https://www.reddit.com/message/compose/?to=RemindMeBot&subject=Delete%20Comment&message=Delete%21%20t0qeyu)\\n\\n*****\\n\\n|[^(Info)](https://www.reddit.com/r/RemindMeBot/comments/e1bko7/remindmebot_info_v21/)|[^(Custom)](https://www.reddit.com/message/compose/?to=RemindMeBot&subject=Reminder&message=%5BLink%20or%20message%20inside%20square%20brackets%5D%0A%0ARemindMe%21%20Time%20period%20here)|[^(Your Reminders)](https://www.reddit.com/message/compose/?to=RemindMeBot&subject=List%20Of%20Reminders&message=MyReminders%21)|[^(Feedback)](https://www.reddit.com/message/compose/?to=Watchful1&subject=RemindMeBot%20Feedback)|\\n|-|-|-|-|', 'title': 'Long-running Thread for Detailed Discussion', 'id': 'i4gfj70', 'created_at': 1649785510, 'score': 1}]\n",
      "2022-07-06 17:36:49.778 | INFO     | sentimentbot.scraper:get_comment_forest:44 - more comments\n",
      "2022-07-06 17:36:49.977 | DEBUG    | sentimentbot.scraper:get_comment_forest:41 - <MoreComments count=0, children=[]>\n",
      "2022-07-06 17:36:49.978 | DEBUG    | sentimentbot.scraper:get_comment_forest:45 - [{'comment': 'Exactly, thesis is the same. Bitcoin from 2013 - 2017 taught me to be patient and to switch off emotions in investing :)', 'title': 'Long-running Thread for Detailed Discussion', 'id': 'iaja4kc', 'created_at': 1653911779, 'score': 1}]\n",
      "2022-07-06 17:36:49.980 | DEBUG    | sentimentbot.scraper:get_comment_forest:41 - <praw.models.comment_forest.CommentForest object at 0x7efc7ff218b0>\n",
      "2022-07-06 17:36:49.983 | INFO     | sentimentbot.scraper:get_comment_forest:44 - more comments\n",
      "2022-07-06 17:36:49.984 | DEBUG    | sentimentbot.scraper:get_comment_forest:41 - <MoreComments count=4, children=['i8zd27n']>\n",
      "2022-07-06 17:36:49.986 | DEBUG    | sentimentbot.scraper:get_comment_forest:45 - [{'comment': 'The average income in China is like $8500/year. In India it’s like $2k. Those two countries comprise a huge portion of the worlds population. They are not going to lease a Tesla', 'title': 'Long-running Thread for Detailed Discussion', 'id': 'i8zd27n', 'created_at': 1652814797, 'score': 0}, {'comment': \"I disagree entirely with the premise of this comment: We're comparing like for like, and assuming better TCO. Those people wouldn't be buying a TM3/TMY-equivalent combustion vehicle either. \\n\\nIf we're stretching the conversation that far, you might as well add in all fish who can't drive a TM3 under the ocean, too.\", 'title': 'Long-running Thread for Detailed Discussion', 'id': 'i8zj7d7', 'created_at': 1652817316, 'score': 3}, {'comment': 'Yes you are right about that. I guess what I was getting at is that that Tesla currently competes in a niche luxury market segment for automobiles.', 'title': 'Long-running Thread for Detailed Discussion', 'id': 'i8zko83', 'created_at': 1652817924, 'score': 1}, {'comment': \"I agree. However, they are not inherently stuck in that niche, and it's TCO you want to base your analysis on, not retail sale price.\", 'title': 'Long-running Thread for Detailed Discussion', 'id': 'i8zljm8', 'created_at': 1652818287, 'score': 5}]\n",
      "2022-07-06 17:36:49.988 | INFO     | sentimentbot.scraper:get_comment_forest:44 - more comments\n",
      "2022-07-06 17:36:49.990 | DEBUG    | sentimentbot.scraper:get_comment_forest:41 - <MoreComments count=1, children=['i9laoge']>\n",
      "2022-07-06 17:36:49.991 | DEBUG    | sentimentbot.scraper:get_comment_forest:45 - [{'comment': 'If he knew recession is coming, why is he buying twitter at 50% over its value screwing tsla investors in the process, \\nAs a CEO where some damn fiduciary responsibility to tesla’s shareholders and stop dhooting the company into their own legs with makinh fun of libtards and dems, hes killing off the demand and for every damn idiotic tweet he looses potential buyers, \\n\\nAnd dont tell me musk is musk, he was never this politically polarizing ,\\n\\nSomeone get his off the board of directors and maybe get him iff the platform and let him go back with playing with rockets and building cars which is his strong point', 'title': 'Long-running Thread for Detailed Discussion', 'id': 'i9laoge', 'created_at': 1653243546, 'score': 0}]\n",
      "2022-07-06 17:36:49.992 | INFO     | sentimentbot.scraper:get_comment_forest:44 - more comments\n",
      "2022-07-06 17:36:49.993 | DEBUG    | sentimentbot.scraper:get_comment_forest:41 - <MoreComments count=0, children=[]>\n",
      "2022-07-06 17:36:49.994 | DEBUG    | sentimentbot.scraper:get_comment_forest:45 - [{'comment': \"Tesla is not just competing with other electric cars.\\n\\nThey are competing with all cars, [as you yourself just said.](https://www.reddit.com/r/teslainvestorsclub/comments/t0qeyu/comment/i89866n/?utm_source=reddit&utm_medium=web2x&context=3)\\n\\nIn fact, a friend of mine recently cross-shopped a TM3 and a AMG C43, and ended up with the C43 — which he's quite proud of.\", 'title': 'Long-running Thread for Detailed Discussion', 'id': 'i8bpatw', 'created_at': 1652367074, 'score': 2}]\n",
      "2022-07-06 17:36:49.995 | INFO     | sentimentbot.scraper:get_comment_forest:44 - more comments\n",
      "2022-07-06 17:36:49.996 | DEBUG    | sentimentbot.scraper:get_comment_forest:41 - <MoreComments count=0, children=[]>\n",
      "2022-07-06 17:36:49.996 | DEBUG    | sentimentbot.scraper:get_comment_forest:45 - [{'comment': 'Or what percentage of incidents are known by Tesla to be caused by doing everything they can to minimize false negatives, something which could change when they get to a certain confidence level.\\n\\nBetter some uncomfortable rides than a string of dead kids.', 'title': 'Long-running Thread for Detailed Discussion', 'id': 'hyyy6dy', 'created_at': 1646173357, 'score': 3}]\n",
      "2022-07-06 17:36:49.997 | INFO     | sentimentbot.scraper:get_comment_forest:44 - more comments\n",
      "2022-07-06 17:36:49.998 | DEBUG    | sentimentbot.scraper:get_comment_forest:41 - <MoreComments count=0, children=[]>\n",
      "2022-07-06 17:36:49.998 | DEBUG    | sentimentbot.scraper:get_comment_forest:45 - [{'comment': \"It's a investment forum, analysts are of financial nature in this sub. It's up to you to express yourself in a matter that we can understand. But I can tell you lack the maturity to accept you might have been less than absolute perfect alpha chad. That's why I surrender, you win!\", 'title': 'Long-running Thread for Detailed Discussion', 'id': 'i00lrkq', 'created_at': 1646857429, 'score': 0}]\n",
      "2022-07-06 17:36:49.999 | INFO     | sentimentbot.scraper:get_comment_forest:44 - more comments\n",
      "2022-07-06 17:36:50.000 | DEBUG    | sentimentbot.scraper:get_comment_forest:41 - <MoreComments count=0, children=[]>\n",
      "2022-07-06 17:36:50.000 | DEBUG    | sentimentbot.scraper:get_comment_forest:45 - [{'comment': 'I will be messaging you in 3 years on [**2025-04-12 17:44:36 UTC**](http://www.wolframalpha.com/input/?i=2025-04-12%2017:44:36%20UTC%20To%20Local%20Time) to remind you of [**this link**](https://www.reddit.com/r/teslainvestorsclub/comments/t0qeyu/longrunning_thread_for_detailed_discussion/i4gfftu/?context=3)\\n\\n[**1 OTHERS CLICKED THIS LINK**](https://www.reddit.com/message/compose/?to=RemindMeBot&subject=Reminder&message=%5Bhttps%3A%2F%2Fwww.reddit.com%2Fr%2Fteslainvestorsclub%2Fcomments%2Ft0qeyu%2Flongrunning_thread_for_detailed_discussion%2Fi4gfftu%2F%5D%0A%0ARemindMe%21%202025-04-12%2017%3A44%3A36%20UTC) to send a PM to also be reminded and to reduce spam.\\n\\n^(Parent commenter can ) [^(delete this message to hide from others.)](https://www.reddit.com/message/compose/?to=RemindMeBot&subject=Delete%20Comment&message=Delete%21%20t0qeyu)\\n\\n*****\\n\\n|[^(Info)](https://www.reddit.com/r/RemindMeBot/comments/e1bko7/remindmebot_info_v21/)|[^(Custom)](https://www.reddit.com/message/compose/?to=RemindMeBot&subject=Reminder&message=%5BLink%20or%20message%20inside%20square%20brackets%5D%0A%0ARemindMe%21%20Time%20period%20here)|[^(Your Reminders)](https://www.reddit.com/message/compose/?to=RemindMeBot&subject=List%20Of%20Reminders&message=MyReminders%21)|[^(Feedback)](https://www.reddit.com/message/compose/?to=Watchful1&subject=RemindMeBot%20Feedback)|\\n|-|-|-|-|', 'title': 'Long-running Thread for Detailed Discussion', 'id': 'i4gfj70', 'created_at': 1649785510, 'score': 1}]\n",
      "2022-07-06 17:36:50.001 | INFO     | sentimentbot.scraper:get_comment_forest:44 - more comments\n",
      "2022-07-06 17:36:50.002 | DEBUG    | sentimentbot.scraper:get_comment_forest:41 - <MoreComments count=0, children=[]>\n",
      "2022-07-06 17:36:50.002 | DEBUG    | sentimentbot.scraper:get_comment_forest:45 - [{'comment': 'Exactly, thesis is the same. Bitcoin from 2013 - 2017 taught me to be patient and to switch off emotions in investing :)', 'title': 'Long-running Thread for Detailed Discussion', 'id': 'iaja4kc', 'created_at': 1653911779, 'score': 1}]\n",
      "2022-07-06 17:36:50.007 | DEBUG    | __main__:load_data:9 - Long-running Thread for Detailed Discussion\n",
      "2022-07-06 17:36:50.399 | DEBUG    | sentimentbot.scraper:get_comment_forest:41 - <praw.models.comment_forest.CommentForest object at 0x7efc7fd09b50>\n",
      "2022-07-06 17:36:50.401 | DEBUG    | sentimentbot.scraper:get_comment_forest:41 - <praw.models.comment_forest.CommentForest object at 0x7efc7fd09b50>\n",
      "2022-07-06 17:36:50.402 | DEBUG    | __main__:load_data:9 - Q2 USA Vehicle Sales %Change Y0Y\n",
      "2022-07-06 17:36:50.570 | DEBUG    | sentimentbot.scraper:get_comment_forest:41 - <praw.models.comment_forest.CommentForest object at 0x7efc803a55b0>\n",
      "2022-07-06 17:36:50.570 | DEBUG    | sentimentbot.scraper:get_comment_forest:41 - <praw.models.comment_forest.CommentForest object at 0x7efc803a55b0>\n",
      "2022-07-06 17:36:50.571 | DEBUG    | __main__:load_data:9 - Jim Hall on Twitter graph showing deaths on us roads by car brand and media coverage\n",
      "2022-07-06 17:36:50.844 | DEBUG    | sentimentbot.scraper:get_comment_forest:41 - <praw.models.comment_forest.CommentForest object at 0x7efc7fe20730>\n",
      "2022-07-06 17:36:50.845 | DEBUG    | sentimentbot.scraper:get_comment_forest:41 - <praw.models.comment_forest.CommentForest object at 0x7efc7fe20730>\n",
      "2022-07-06 17:36:50.846 | DEBUG    | __main__:load_data:9 - JPMorgan VS Deutsche Bank on Tesla\n",
      "2022-07-06 17:36:51.433 | DEBUG    | sentimentbot.scraper:get_comment_forest:41 - <praw.models.comment_forest.CommentForest object at 0x7efc7fe207c0>\n",
      "2022-07-06 17:36:51.434 | DEBUG    | sentimentbot.scraper:get_comment_forest:41 - <praw.models.comment_forest.CommentForest object at 0x7efc7fe207c0>\n",
      "2022-07-06 17:36:51.434 | DEBUG    | __main__:load_data:9 - Tesla Model Y 4680 Structural Pack OUT!!!\n",
      "2022-07-06 17:36:51.617 | DEBUG    | sentimentbot.scraper:get_comment_forest:41 - <praw.models.comment_forest.CommentForest object at 0x7efc7fdf0f10>\n",
      "2022-07-06 17:36:51.619 | DEBUG    | sentimentbot.scraper:get_comment_forest:41 - <praw.models.comment_forest.CommentForest object at 0x7efc7fdf0f10>\n",
      "2022-07-06 17:36:51.621 | DEBUG    | __main__:load_data:9 - Lithium set to boom as cars go electric\n",
      "2022-07-06 17:36:51.997 | DEBUG    | sentimentbot.scraper:get_comment_forest:41 - <praw.models.comment_forest.CommentForest object at 0x7efc7fdf32e0>\n",
      "2022-07-06 17:36:51.998 | DEBUG    | sentimentbot.scraper:get_comment_forest:41 - <praw.models.comment_forest.CommentForest object at 0x7efc7fdf32e0>\n",
      "2022-07-06 17:36:51.999 | DEBUG    | __main__:load_data:9 - Gary Black on Twitter: $TSLA delivered 157.9K units in June, equal to a run rate of 1.89M units per year (473.6K per quarter). July will be less due to the 14-day GF3 upgrade. This should lead analysts to increase FY’23 vol and EPS ests with Berlin & Austin still ramping.\n",
      "2022-07-06 17:36:53.303 | DEBUG    | sentimentbot.scraper:get_comment_forest:41 - <praw.models.comment_forest.CommentForest object at 0x7efc7fdf9760>\n",
      "2022-07-06 17:36:53.304 | INFO     | sentimentbot.scraper:get_comment_forest:44 - more comments\n",
      "2022-07-06 17:36:53.447 | DEBUG    | sentimentbot.scraper:get_comment_forest:41 - <MoreComments count=0, children=[]>\n",
      "2022-07-06 17:36:53.448 | DEBUG    | sentimentbot.scraper:get_comment_forest:45 - [{'comment': 'My last tesla had an interior buzz noise/rattle on the b pillar that they looked at twice and never were able to fix. I sold it to carvana.\\n\\nI started the service request for the new Y and saw mobile service wasnt available as expected so didnt submit the request. I will submit it when I actually have time to take off work bc when you live 3 hours away you cant just schedule whenever.\\n\\nI am an investor with 800+ shares and on my second tesla. Super disappointed in this company and they NEED to turn this shit around before their reputation catches up with them.', 'title': 'Daily Thread - July 05, 2022', 'id': 'if18zmt', 'created_at': 1657080495, 'score': 2}]\n",
      "2022-07-06 17:36:53.449 | DEBUG    | sentimentbot.scraper:get_comment_forest:41 - <praw.models.comment_forest.CommentForest object at 0x7efc7fdf9760>\n",
      "2022-07-06 17:36:53.450 | INFO     | sentimentbot.scraper:get_comment_forest:44 - more comments\n",
      "2022-07-06 17:36:53.451 | DEBUG    | sentimentbot.scraper:get_comment_forest:41 - <MoreComments count=0, children=[]>\n",
      "2022-07-06 17:36:53.452 | DEBUG    | sentimentbot.scraper:get_comment_forest:45 - [{'comment': 'My last tesla had an interior buzz noise/rattle on the b pillar that they looked at twice and never were able to fix. I sold it to carvana.\\n\\nI started the service request for the new Y and saw mobile service wasnt available as expected so didnt submit the request. I will submit it when I actually have time to take off work bc when you live 3 hours away you cant just schedule whenever.\\n\\nI am an investor with 800+ shares and on my second tesla. Super disappointed in this company and they NEED to turn this shit around before their reputation catches up with them.', 'title': 'Daily Thread - July 05, 2022', 'id': 'if18zmt', 'created_at': 1657080495, 'score': 2}]\n",
      "2022-07-06 17:36:53.452 | DEBUG    | __main__:load_data:9 - Daily Thread - July 05, 2022\n",
      "2022-07-06 17:36:53.731 | DEBUG    | sentimentbot.scraper:get_comment_forest:41 - <praw.models.comment_forest.CommentForest object at 0x7efc7fda31c0>\n",
      "2022-07-06 17:36:53.731 | DEBUG    | sentimentbot.scraper:get_comment_forest:41 - <praw.models.comment_forest.CommentForest object at 0x7efc7fda31c0>\n",
      "2022-07-06 17:36:53.732 | DEBUG    | __main__:load_data:9 - Tesla Giga Berlin to Carry Out Planned Upgrades in Preparation for Future Production of Model Y with Structural Battery Pack\n",
      "2022-07-06 17:36:53.959 | DEBUG    | sentimentbot.scraper:get_comment_forest:41 - <praw.models.comment_forest.CommentForest object at 0x7efc7fb72160>\n",
      "2022-07-06 17:36:53.960 | DEBUG    | sentimentbot.scraper:get_comment_forest:41 - <praw.models.comment_forest.CommentForest object at 0x7efc7fb72160>\n",
      "2022-07-06 17:36:53.960 | DEBUG    | __main__:load_data:9 - “#GigaBerlinBrandenburg According to press releases, GigaBerlin will stop operations for 2 weeks at the beginning of July to optimize production processes. The production of the #ModelY will then be accelerated significantly.” - Gf4Tesla on Twitter\n",
      "2022-07-06 17:36:54.391 | DEBUG    | sentimentbot.scraper:get_comment_forest:41 - <praw.models.comment_forest.CommentForest object at 0x7efc7fb87f40>\n",
      "2022-07-06 17:36:54.392 | DEBUG    | sentimentbot.scraper:get_comment_forest:41 - <praw.models.comment_forest.CommentForest object at 0x7efc7fb87f40>\n",
      "2022-07-06 17:36:54.393 | DEBUG    | __main__:load_data:9 - Refuelling a hydrogen car: How five minutes can turn into an hour\n",
      "2022-07-06 17:36:54.562 | DEBUG    | sentimentbot.scraper:get_comment_forest:41 - <praw.models.comment_forest.CommentForest object at 0x7efc7fb87ca0>\n",
      "2022-07-06 17:36:54.563 | DEBUG    | sentimentbot.scraper:get_comment_forest:41 - <praw.models.comment_forest.CommentForest object at 0x7efc7fb87ca0>\n",
      "2022-07-06 17:36:54.564 | DEBUG    | __main__:load_data:9 - @Tesla_Adri on Twitter with photos of Tesla demo at ideenExpo in Hannover\n",
      "2022-07-06 17:36:54.720 | DEBUG    | sentimentbot.scraper:get_comment_forest:41 - <praw.models.comment_forest.CommentForest object at 0x7efc8052a400>\n",
      "2022-07-06 17:36:54.722 | DEBUG    | sentimentbot.scraper:get_comment_forest:41 - <praw.models.comment_forest.CommentForest object at 0x7efc8052a400>\n",
      "2022-07-06 17:36:54.722 | DEBUG    | __main__:load_data:9 - Tesla Giga Principle of OTA Update [official Tesla Greater China video]\n",
      "2022-07-06 17:36:54.997 | DEBUG    | sentimentbot.scraper:get_comment_forest:41 - <praw.models.comment_forest.CommentForest object at 0x7efc7fbaa850>\n",
      "2022-07-06 17:36:54.999 | DEBUG    | sentimentbot.scraper:get_comment_forest:41 - <praw.models.comment_forest.CommentForest object at 0x7efc7fbaa850>\n",
      "2022-07-06 17:36:55.001 | DEBUG    | __main__:load_data:9 - Tesla Megapacks to Power 185 MW/565 MWh Project in Hawaii to Shut Down a Coal-Fired Power Plant\n"
     ]
    }
   ],
   "source": [
    "# Scraping data from reddit\n",
    "dfReddit = load_data(number=15, scraping_option=select_scrap_type(\"Hot\"))"
   ]
  },
  {
   "cell_type": "code",
   "execution_count": 11,
   "metadata": {},
   "outputs": [
    {
     "data": {
      "text/html": [
       "<div>\n",
       "<style scoped>\n",
       "    .dataframe tbody tr th:only-of-type {\n",
       "        vertical-align: middle;\n",
       "    }\n",
       "\n",
       "    .dataframe tbody tr th {\n",
       "        vertical-align: top;\n",
       "    }\n",
       "\n",
       "    .dataframe thead th {\n",
       "        text-align: right;\n",
       "    }\n",
       "</style>\n",
       "<table border=\"1\" class=\"dataframe\">\n",
       "  <thead>\n",
       "    <tr style=\"text-align: right;\">\n",
       "      <th></th>\n",
       "      <th>comment</th>\n",
       "      <th>title</th>\n",
       "      <th>id</th>\n",
       "      <th>created_at</th>\n",
       "      <th>score</th>\n",
       "    </tr>\n",
       "  </thead>\n",
       "  <tbody>\n",
       "    <tr>\n",
       "      <th>0</th>\n",
       "      <td>The barrage of bad press (mostly bias and blat...</td>\n",
       "      <td>Daily Thread - July 06, 2022</td>\n",
       "      <td>if2ad4f</td>\n",
       "      <td>1657108147</td>\n",
       "      <td>12</td>\n",
       "    </tr>\n",
       "    <tr>\n",
       "      <th>1</th>\n",
       "      <td>When I first heard about Tesla was this articl...</td>\n",
       "      <td>Daily Thread - July 06, 2022</td>\n",
       "      <td>if1owra</td>\n",
       "      <td>1657091305</td>\n",
       "      <td>8</td>\n",
       "    </tr>\n",
       "    <tr>\n",
       "      <th>2</th>\n",
       "      <td>The last and only time TSLA had a break out pa...</td>\n",
       "      <td>Daily Thread - July 06, 2022</td>\n",
       "      <td>if28wnx</td>\n",
       "      <td>1657107246</td>\n",
       "      <td>18</td>\n",
       "    </tr>\n",
       "    <tr>\n",
       "      <th>3</th>\n",
       "      <td>Looks like everything is in a holding pattern ...</td>\n",
       "      <td>Daily Thread - July 06, 2022</td>\n",
       "      <td>if38pws</td>\n",
       "      <td>1657123672</td>\n",
       "      <td>5</td>\n",
       "    </tr>\n",
       "    <tr>\n",
       "      <th>4</th>\n",
       "      <td>Watching TL0 instead of sleeping.  Numbers loo...</td>\n",
       "      <td>Daily Thread - July 06, 2022</td>\n",
       "      <td>if1tq3s</td>\n",
       "      <td>1657095299</td>\n",
       "      <td>3</td>\n",
       "    </tr>\n",
       "  </tbody>\n",
       "</table>\n",
       "</div>"
      ],
      "text/plain": [
       "                                             comment  \\\n",
       "0  The barrage of bad press (mostly bias and blat...   \n",
       "1  When I first heard about Tesla was this articl...   \n",
       "2  The last and only time TSLA had a break out pa...   \n",
       "3  Looks like everything is in a holding pattern ...   \n",
       "4  Watching TL0 instead of sleeping.  Numbers loo...   \n",
       "\n",
       "                          title       id  created_at  score  \n",
       "0  Daily Thread - July 06, 2022  if2ad4f  1657108147     12  \n",
       "1  Daily Thread - July 06, 2022  if1owra  1657091305      8  \n",
       "2  Daily Thread - July 06, 2022  if28wnx  1657107246     18  \n",
       "3  Daily Thread - July 06, 2022  if38pws  1657123672      5  \n",
       "4  Daily Thread - July 06, 2022  if1tq3s  1657095299      3  "
      ]
     },
     "execution_count": 11,
     "metadata": {},
     "output_type": "execute_result"
    }
   ],
   "source": [
    "dfReddit.head()"
   ]
  },
  {
   "cell_type": "code",
   "execution_count": 14,
   "metadata": {},
   "outputs": [
    {
     "data": {
      "text/plain": [
       "'The barrage of bad press (mostly bias and blatant manipulation) can make investing in TSLA hard. I frequently have to remind myself that this is where the opportunity lies; eventually Tesla’s lead and market position will be undeniable , and that’s when we get a repeat of 2020…'"
      ]
     },
     "execution_count": 14,
     "metadata": {},
     "output_type": "execute_result"
    }
   ],
   "source": [
    "dfReddit.loc[0,\"comment\"]"
   ]
  },
  {
   "cell_type": "markdown",
   "metadata": {},
   "source": [
    "Once we have our comments, let's use the [`pandas.Series.str.slice()`](https://pandas.pydata.org/docs/reference/api/pandas.Series.str.slice.html) method to ensure our data will play nicely with our model. (`bert` only supports up to a maximum of 512 tokens, so a range of `0` to `512` seems appropriate)"
   ]
  },
  {
   "cell_type": "code",
   "execution_count": 17,
   "metadata": {},
   "outputs": [],
   "source": [
    "# slice comments as bert supports only 512 tokens\n",
    "dfReddit['comment'] = dfReddit['comment'].str.slice(0, 512)"
   ]
  },
  {
   "cell_type": "markdown",
   "metadata": {},
   "source": [
    "### Step 5: Analyze the Comments! 🔍"
   ]
  },
  {
   "cell_type": "markdown",
   "metadata": {},
   "source": [
    "We'll be using the `FourthBrain/bert_model_reddit_tsla` model (found [here](https://huggingface.co/FourthBrain/bert_model_reddit_tsla)), which is based off of the `distilbert-base-uncased` (found [here](https://huggingface.co/distilbert-base-uncased))\n",
    "\n",
    "We'll use this model in a `sentiment-analysis` pipeline! (read all about that [here](https://huggingface.co/docs/transformers/main_classes/pipelines#transformers.pipeline.example))"
   ]
  },
  {
   "cell_type": "code",
   "execution_count": 19,
   "metadata": {},
   "outputs": [
    {
     "data": {
      "application/vnd.jupyter.widget-view+json": {
       "model_id": "70996c5927404b558e7241811404d662",
       "version_major": 2,
       "version_minor": 0
      },
      "text/plain": [
       "Downloading:   0%|          | 0.00/615 [00:00<?, ?B/s]"
      ]
     },
     "metadata": {},
     "output_type": "display_data"
    },
    {
     "data": {
      "application/vnd.jupyter.widget-view+json": {
       "model_id": "6230b7f797b1438793bab80ea292ef21",
       "version_major": 2,
       "version_minor": 0
      },
      "text/plain": [
       "Downloading:   0%|          | 0.00/255M [00:00<?, ?B/s]"
      ]
     },
     "metadata": {},
     "output_type": "display_data"
    },
    {
     "data": {
      "application/vnd.jupyter.widget-view+json": {
       "model_id": "2741f5f35302403ab3a034f64b1d609a",
       "version_major": 2,
       "version_minor": 0
      },
      "text/plain": [
       "Downloading:   0%|          | 0.00/360 [00:00<?, ?B/s]"
      ]
     },
     "metadata": {},
     "output_type": "display_data"
    },
    {
     "data": {
      "application/vnd.jupyter.widget-view+json": {
       "model_id": "bf63b72102124b96bc2a22f5a9753146",
       "version_major": 2,
       "version_minor": 0
      },
      "text/plain": [
       "Downloading:   0%|          | 0.00/226k [00:00<?, ?B/s]"
      ]
     },
     "metadata": {},
     "output_type": "display_data"
    },
    {
     "data": {
      "application/vnd.jupyter.widget-view+json": {
       "model_id": "754433a5ee3341bd90263579ba7dfc09",
       "version_major": 2,
       "version_minor": 0
      },
      "text/plain": [
       "Downloading:   0%|          | 0.00/695k [00:00<?, ?B/s]"
      ]
     },
     "metadata": {},
     "output_type": "display_data"
    },
    {
     "data": {
      "application/vnd.jupyter.widget-view+json": {
       "model_id": "99619dd7c6174391bc31838da70f6eb1",
       "version_major": 2,
       "version_minor": 0
      },
      "text/plain": [
       "Downloading:   0%|          | 0.00/125 [00:00<?, ?B/s]"
      ]
     },
     "metadata": {},
     "output_type": "display_data"
    }
   ],
   "source": [
    "from transformers import pipeline\n",
    "\n",
    "# initialize the sentiment pipeline\n",
    "sentiment_pipeline = pipeline('sentiment-analysis', 'FourthBrain/bert_model_reddit_tsla')\n",
    "reddit_json = sentiment_pipeline(dfReddit[\"comment\"].tolist())\n",
    "\n",
    "# Retrieve labels and scores\n",
    "dfReddit['label'] = [reddit_json[i]['label'] for i in range(0, len(reddit_json))]\n",
    "dfReddit['score'] = [reddit_json[i]['score'] for i in range(0, len(reddit_json))]\n"
   ]
  },
  {
   "cell_type": "markdown",
   "metadata": {},
   "source": [
    "Next up, we'll want to perform the following steps\n",
    "\n",
    "1. Convert the `created_at` column to the appropriate format and name it `'timestamp'`\n",
    "2. Normalize the dates using the `NormalizeDates()` helper function"
   ]
  },
  {
   "cell_type": "code",
   "execution_count": 20,
   "metadata": {},
   "outputs": [],
   "source": [
    "import numpy as np\n",
    "from sentimentbot.BotUtils import NormalizeDates\n",
    "\n",
    "# Rename timestamp column \n",
    "dfReddit = dfReddit.rename(columns={'created_at': 'timestamp'})\n",
    "dfReddit['timestamp'] = [datetime.fromtimestamp(dt) for dt in dfReddit['timestamp'] ]\n",
    "\n",
    "# Normalize Reddit sentiment data\n",
    "dfReddit = NormalizeDates(dfReddit, timestamp_col=\"timestamp\", interval=interval)\n",
    "\n",
    "# Create a continous time series \n",
    "dfTimeSeries = pd.DataFrame(dfReddit[\"timestamp\"])"
   ]
  },
  {
   "cell_type": "markdown",
   "metadata": {},
   "source": [
    "### Step 6: Get Stock Data 🚀\n",
    "\n",
    "Next up, we're going to get the stock data and create a DataFrame - as well as normalize the dates, just like we did with the subreddit comment timestamps"
   ]
  },
  {
   "cell_type": "code",
   "execution_count": 21,
   "metadata": {},
   "outputs": [],
   "source": [
    "from sentimentbot.BotUtils import GetStockData\n",
    "\n",
    "# Get Stock Data\n",
    "j, dfStockData = GetStockData(settings.stock_data_api_key, symbol=symbol, start_date=start_date, end_date=end_date, interval='1day')\n",
    "dfStockData = dfStockData[(dfStockData['timestamp'] >= start_date) & (dfStockData['timestamp'] <= end_date)]\n",
    "\n",
    "# Normalize stock price data\n",
    "dfStockData = NormalizeDates(dfStockData, timestamp_col=\"timestamp\", interval=interval)"
   ]
  },
  {
   "cell_type": "markdown",
   "metadata": {},
   "source": [
    "### Step 7: Merge Sentiment and Stock Data 🧬\n",
    "\n",
    "We've got some processing to do! "
   ]
  },
  {
   "cell_type": "code",
   "execution_count": 22,
   "metadata": {},
   "outputs": [],
   "source": [
    "# Join time series df with stock price df and reddit df\n",
    "dfSentiment = dfTimeSeries.merge(dfStockData, how='left', on=\"timestamp\")\n",
    "dfSentiment = dfSentiment.merge(dfReddit, how='left', on=\"timestamp\")\n",
    "\n",
    "# Filter down to only the columns that we'll be using \n",
    "dfSentiment = dfSentiment[['timestamp', 'close', 'volume', 'label', 'score']]\n",
    "\n",
    "# Clean up NaNs for closing price, score, and labels\n",
    "dfSentiment['close'] = dfSentiment['close'].fillna(0)\n",
    "dfSentiment['score'] = dfSentiment['score'].fillna(0)\n",
    "dfSentiment['label'] = dfSentiment['label'].fillna('NEUTRAL')\n",
    "dfSentiment['label'] = ['NEGATIVE' for s in dfSentiment['label'] == 'LABEL_0']\n",
    "dfSentiment['label'] = ['POSITIVE' for s in dfSentiment['label'] == 'LABEL_1']\n",
    "\n",
    "# Convert close from string to float\n",
    "dfSentiment['close'] = dfSentiment['close'].astype('float')\n",
    "\n",
    "# Calculate weighted sentiment\n",
    "dfSentiment['sentiment'] = [1 if sentiment == \"POSITIVE\"  else 0 if sentiment == \"NEUTRAL\" else -1 for sentiment in dfSentiment['label'].tolist() ]\n",
    "dfSentiment['weighted_sentiment'] = dfSentiment['sentiment'] * dfSentiment['score']\n",
    "\n",
    "# Count only the POSITIVE and NEGATIVE labels (NEUTRAL is just a filler for missing dates)\n",
    "dfSentiment['counter'] = [1 if sentiment == \"POSITIVE\"  else 1 if sentiment == \"NEGATIVE\" else 0 for sentiment in dfSentiment['label'].tolist() ]\n",
    "\n",
    "# Group by to calculate Reddit post count and sentiment score (mean of weighted sentiment)\n",
    "dfSentiment = dfSentiment.groupby('timestamp') \\\n",
    "       .agg({'counter':'sum', 'close':'max', 'volume':max, 'weighted_sentiment':'mean'}) \\\n",
    "       .rename(columns={'sentiment':'count_posts', 'weighted_sentiment':'sentiment_score'}) \\\n",
    "       .reset_index()\n"
   ]
  },
  {
   "cell_type": "code",
   "execution_count": 23,
   "metadata": {},
   "outputs": [
    {
     "data": {
      "text/html": [
       "<div>\n",
       "<style scoped>\n",
       "    .dataframe tbody tr th:only-of-type {\n",
       "        vertical-align: middle;\n",
       "    }\n",
       "\n",
       "    .dataframe tbody tr th {\n",
       "        vertical-align: top;\n",
       "    }\n",
       "\n",
       "    .dataframe thead th {\n",
       "        text-align: right;\n",
       "    }\n",
       "</style>\n",
       "<table border=\"1\" class=\"dataframe\">\n",
       "  <thead>\n",
       "    <tr style=\"text-align: right;\">\n",
       "      <th></th>\n",
       "      <th>timestamp</th>\n",
       "      <th>counter</th>\n",
       "      <th>close</th>\n",
       "      <th>volume</th>\n",
       "      <th>sentiment_score</th>\n",
       "    </tr>\n",
       "  </thead>\n",
       "  <tbody>\n",
       "    <tr>\n",
       "      <th>0</th>\n",
       "      <td>2022-02-01</td>\n",
       "      <td>2304</td>\n",
       "      <td>0.00000</td>\n",
       "      <td>NaN</td>\n",
       "      <td>0.876951</td>\n",
       "    </tr>\n",
       "    <tr>\n",
       "      <th>1</th>\n",
       "      <td>2022-03-01</td>\n",
       "      <td>298908</td>\n",
       "      <td>1099.56995</td>\n",
       "      <td>40225400</td>\n",
       "      <td>0.875772</td>\n",
       "    </tr>\n",
       "    <tr>\n",
       "      <th>2</th>\n",
       "      <td>2022-04-01</td>\n",
       "      <td>204020</td>\n",
       "      <td>1145.44995</td>\n",
       "      <td>45377900</td>\n",
       "      <td>0.844894</td>\n",
       "    </tr>\n",
       "    <tr>\n",
       "      <th>3</th>\n",
       "      <td>2022-05-01</td>\n",
       "      <td>405741</td>\n",
       "      <td>952.62000</td>\n",
       "      <td>48324400</td>\n",
       "      <td>0.857930</td>\n",
       "    </tr>\n",
       "    <tr>\n",
       "      <th>4</th>\n",
       "      <td>2022-06-01</td>\n",
       "      <td>75600</td>\n",
       "      <td>775.00000</td>\n",
       "      <td>40931000</td>\n",
       "      <td>0.857508</td>\n",
       "    </tr>\n",
       "    <tr>\n",
       "      <th>5</th>\n",
       "      <td>2022-07-01</td>\n",
       "      <td>471969</td>\n",
       "      <td>0.00000</td>\n",
       "      <td>NaN</td>\n",
       "      <td>0.871970</td>\n",
       "    </tr>\n",
       "  </tbody>\n",
       "</table>\n",
       "</div>"
      ],
      "text/plain": [
       "   timestamp  counter       close    volume  sentiment_score\n",
       "0 2022-02-01     2304     0.00000       NaN         0.876951\n",
       "1 2022-03-01   298908  1099.56995  40225400         0.875772\n",
       "2 2022-04-01   204020  1145.44995  45377900         0.844894\n",
       "3 2022-05-01   405741   952.62000  48324400         0.857930\n",
       "4 2022-06-01    75600   775.00000  40931000         0.857508\n",
       "5 2022-07-01   471969     0.00000       NaN         0.871970"
      ]
     },
     "execution_count": 23,
     "metadata": {},
     "output_type": "execute_result"
    }
   ],
   "source": [
    "dfSentiment"
   ]
  },
  {
   "cell_type": "markdown",
   "metadata": {},
   "source": [
    "### Step 8: Final Computation 🖥️\n",
    "\n",
    "In this last step, we're going to finish up some calculations:\n",
    "\n",
    "1. Create the lags and percentage change for the closing stock price. \n",
    "2. Calculate the 3 month rolling average."
   ]
  },
  {
   "cell_type": "code",
   "execution_count": 24,
   "metadata": {},
   "outputs": [
    {
     "data": {
      "text/html": [
       "<div>\n",
       "<style scoped>\n",
       "    .dataframe tbody tr th:only-of-type {\n",
       "        vertical-align: middle;\n",
       "    }\n",
       "\n",
       "    .dataframe tbody tr th {\n",
       "        vertical-align: top;\n",
       "    }\n",
       "\n",
       "    .dataframe thead th {\n",
       "        text-align: right;\n",
       "    }\n",
       "</style>\n",
       "<table border=\"1\" class=\"dataframe\">\n",
       "  <thead>\n",
       "    <tr style=\"text-align: right;\">\n",
       "      <th></th>\n",
       "      <th>timestamp</th>\n",
       "      <th>counter</th>\n",
       "      <th>close</th>\n",
       "      <th>volume</th>\n",
       "      <th>sentiment_score</th>\n",
       "      <th>close_lag1</th>\n",
       "      <th>perc_change_close</th>\n",
       "      <th>sentiment_score_lag1</th>\n",
       "      <th>perc_change_sentiment</th>\n",
       "      <th>sentiment_SMA3mo</th>\n",
       "    </tr>\n",
       "  </thead>\n",
       "  <tbody>\n",
       "    <tr>\n",
       "      <th>1</th>\n",
       "      <td>2022-03-01</td>\n",
       "      <td>298908</td>\n",
       "      <td>1099.56995</td>\n",
       "      <td>40225400</td>\n",
       "      <td>0.875772</td>\n",
       "      <td>0.00000</td>\n",
       "      <td>inf</td>\n",
       "      <td>0.876951</td>\n",
       "      <td>-0.001345</td>\n",
       "      <td>0.000000</td>\n",
       "    </tr>\n",
       "    <tr>\n",
       "      <th>2</th>\n",
       "      <td>2022-04-01</td>\n",
       "      <td>204020</td>\n",
       "      <td>1145.44995</td>\n",
       "      <td>45377900</td>\n",
       "      <td>0.844894</td>\n",
       "      <td>1099.56995</td>\n",
       "      <td>0.041725</td>\n",
       "      <td>0.875772</td>\n",
       "      <td>-0.035257</td>\n",
       "      <td>0.865872</td>\n",
       "    </tr>\n",
       "    <tr>\n",
       "      <th>3</th>\n",
       "      <td>2022-05-01</td>\n",
       "      <td>405741</td>\n",
       "      <td>952.62000</td>\n",
       "      <td>48324400</td>\n",
       "      <td>0.857930</td>\n",
       "      <td>1145.44995</td>\n",
       "      <td>-0.168344</td>\n",
       "      <td>0.844894</td>\n",
       "      <td>0.015428</td>\n",
       "      <td>0.859532</td>\n",
       "    </tr>\n",
       "    <tr>\n",
       "      <th>4</th>\n",
       "      <td>2022-06-01</td>\n",
       "      <td>75600</td>\n",
       "      <td>775.00000</td>\n",
       "      <td>40931000</td>\n",
       "      <td>0.857508</td>\n",
       "      <td>952.62000</td>\n",
       "      <td>-0.186454</td>\n",
       "      <td>0.857930</td>\n",
       "      <td>-0.000492</td>\n",
       "      <td>0.853444</td>\n",
       "    </tr>\n",
       "    <tr>\n",
       "      <th>5</th>\n",
       "      <td>2022-07-01</td>\n",
       "      <td>471969</td>\n",
       "      <td>0.00000</td>\n",
       "      <td>NaN</td>\n",
       "      <td>0.871970</td>\n",
       "      <td>775.00000</td>\n",
       "      <td>-1.000000</td>\n",
       "      <td>0.857508</td>\n",
       "      <td>0.016865</td>\n",
       "      <td>0.862469</td>\n",
       "    </tr>\n",
       "  </tbody>\n",
       "</table>\n",
       "</div>"
      ],
      "text/plain": [
       "   timestamp  counter       close    volume  sentiment_score  close_lag1  \\\n",
       "1 2022-03-01   298908  1099.56995  40225400         0.875772     0.00000   \n",
       "2 2022-04-01   204020  1145.44995  45377900         0.844894  1099.56995   \n",
       "3 2022-05-01   405741   952.62000  48324400         0.857930  1145.44995   \n",
       "4 2022-06-01    75600   775.00000  40931000         0.857508   952.62000   \n",
       "5 2022-07-01   471969     0.00000       NaN         0.871970   775.00000   \n",
       "\n",
       "   perc_change_close  sentiment_score_lag1  perc_change_sentiment  \\\n",
       "1                inf              0.876951              -0.001345   \n",
       "2           0.041725              0.875772              -0.035257   \n",
       "3          -0.168344              0.844894               0.015428   \n",
       "4          -0.186454              0.857930              -0.000492   \n",
       "5          -1.000000              0.857508               0.016865   \n",
       "\n",
       "   sentiment_SMA3mo  \n",
       "1          0.000000  \n",
       "2          0.865872  \n",
       "3          0.859532  \n",
       "4          0.853444  \n",
       "5          0.862469  "
      ]
     },
     "execution_count": 24,
     "metadata": {},
     "output_type": "execute_result"
    }
   ],
   "source": [
    "# Create lags and %change for closing stock price\n",
    "dfSentiment['close_lag1'] = dfSentiment['close'].shift(1)\n",
    "dfSentiment['close_lag1'] = dfSentiment['close_lag1'].fillna(0)\n",
    "dfSentiment['perc_change_close'] = (dfSentiment['close'] - dfSentiment['close_lag1']) / dfSentiment['close_lag1']\n",
    "dfSentiment['perc_change_close'] = dfSentiment['perc_change_close'].fillna(0)\n",
    "\n",
    "dfSentiment['sentiment_score_lag1'] = dfSentiment['sentiment_score'].shift(1)\n",
    "dfSentiment['sentiment_score_lag1'] = dfSentiment['sentiment_score_lag1'].fillna(0)\n",
    "dfSentiment['perc_change_sentiment'] = (dfSentiment['sentiment_score'] - dfSentiment['sentiment_score_lag1']) / dfSentiment['sentiment_score_lag1']\n",
    "\n",
    "# Calculate 3 month rolling average\n",
    "dfSentiment['sentiment_SMA3mo'] = dfSentiment.sentiment_score.rolling(3).mean()\n",
    "dfSentiment['sentiment_SMA3mo'] = dfSentiment['sentiment_SMA3mo'].fillna(0)\n",
    "\n",
    "dfSentiment = dfSentiment[1:]\n",
    "dfSentiment"
   ]
  },
  {
   "cell_type": "markdown",
   "metadata": {},
   "source": [
    "Let's save our work in a `.csv` for use later in the Streamlit app!"
   ]
  },
  {
   "cell_type": "code",
   "execution_count": 25,
   "metadata": {},
   "outputs": [],
   "source": [
    "# Save DataFrame locally (or somewhere else) for use in Streamlit app\n",
    "dfSentiment.to_csv('./sentiment_data.csv')"
   ]
  },
  {
   "cell_type": "markdown",
   "metadata": {},
   "source": [
    "### Step 8a: Plotting our Results! 📊\n",
    "\n",
    "Now, after all that, let's plot our results and see how they shape up!"
   ]
  },
  {
   "cell_type": "code",
   "execution_count": 26,
   "metadata": {},
   "outputs": [
    {
     "data": {
      "image/png": "[encoded data removed]",
      "text/plain": [
       "<Figure size 432x288 with 2 Axes>"
      ]
     },
     "metadata": {
      "needs_background": "light"
     },
     "output_type": "display_data"
    }
   ],
   "source": [
    "import matplotlib.pyplot as plt\n",
    "\n",
    "ax1 = dfSentiment.plot(kind = 'line', x = 'timestamp',\n",
    "                  y = 'sentiment_score', color = 'Red',\n",
    "                  linewidth = 3)\n",
    "\n",
    "ax2 = dfSentiment.plot(kind = 'line', x = 'timestamp',\n",
    "                   y = 'close', secondary_y = True,\n",
    "                   color = 'Blue',  linewidth = 3,\n",
    "                   ax = ax1) \n",
    "\n",
    "#labeling x and y-axis\n",
    "ax1.set_xlabel('Timestamp', color = 'black')\n",
    "ax1.set_ylabel('Sentiment Score', color = \"r\")\n",
    "ax2.set_ylabel('% Change Stock Price', color = 'b')\n",
    " \n",
    "#defining display layout\n",
    "plt.tight_layout()\n",
    " \n",
    "#show plot\n",
    "plt.show()"
   ]
  },
  {
   "cell_type": "code",
   "execution_count": null,
   "metadata": {},
   "outputs": [],
   "source": []
  }
 ],
 "metadata": {
  "kernelspec": {
   "display_name": "Python 3.8.13 ('tsla_bot')",
   "language": "python",
   "name": "python3"
  },
  "language_info": {
   "codemirror_mode": {
    "name": "ipython",
    "version": 3
   },
   "file_extension": ".py",
   "mimetype": "text/x-python",
   "name": "python",
   "nbconvert_exporter": "python",
   "pygments_lexer": "ipython3",
   "version": "3.8.13"
  },
  "orig_nbformat": 4,
  "vscode": {
   "interpreter": {
    "hash": "3d8f3e02ec33dbfebb46f05f8e41342f7747c5084d5fb64450959e4a0e63bdc9"
   }
  }
 },
 "nbformat": 4,
 "nbformat_minor": 2
}
